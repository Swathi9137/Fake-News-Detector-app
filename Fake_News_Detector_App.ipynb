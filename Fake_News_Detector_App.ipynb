{
  "nbformat": 4,
  "nbformat_minor": 0,
  "metadata": {
    "colab": {
      "provenance": []
    },
    "kernelspec": {
      "name": "python3",
      "display_name": "Python 3"
    },
    "language_info": {
      "name": "python"
    }
  },
  "cells": [
    {
      "cell_type": "code",
      "execution_count": null,
      "metadata": {
        "colab": {
          "base_uri": "https://localhost:8080/"
        },
        "id": "4O_EmSbnzDJZ",
        "outputId": "ba2b51e4-5b4f-42b1-856f-89c9f21d1e01"
      },
      "outputs": [
        {
          "output_type": "stream",
          "name": "stderr",
          "text": [
            "[nltk_data] Downloading package stopwords to /root/nltk_data...\n",
            "[nltk_data]   Package stopwords is already up-to-date!\n"
          ]
        },
        {
          "output_type": "stream",
          "name": "stdout",
          "text": [
            "Accuracy: 0.9400890868596882\n",
            "\n",
            "Classification Report:\n",
            "               precision    recall  f1-score   support\n",
            "\n",
            "           0       0.95      0.92      0.94      4367\n",
            "           1       0.93      0.96      0.94      4613\n",
            "\n",
            "    accuracy                           0.94      8980\n",
            "   macro avg       0.94      0.94      0.94      8980\n",
            "weighted avg       0.94      0.94      0.94      8980\n",
            "\n"
          ]
        },
        {
          "output_type": "execute_result",
          "data": {
            "text/plain": [
              "['vectorizer.pkl']"
            ]
          },
          "metadata": {},
          "execution_count": 2
        }
      ],
      "source": [
        "# Step 1: Install required packages\n",
        "# !pip install nltk scikit-learn pandas joblib\n",
        "\n",
        "import pandas as pd\n",
        "import numpy as np\n",
        "import string\n",
        "import nltk\n",
        "import joblib\n",
        "from nltk.corpus import stopwords\n",
        "from sklearn.model_selection import train_test_split\n",
        "from sklearn.feature_extraction.text import TfidfVectorizer\n",
        "from sklearn.naive_bayes import MultinomialNB\n",
        "from sklearn.metrics import classification_report, accuracy_score\n",
        "\n",
        "# Download NLTK stopwords\n",
        "nltk.download('stopwords')\n",
        "\n",
        "# Step 2: Load Dataset (upload 'Fake.csv' and 'True.csv')\n",
        "fake = pd.read_csv(\"/content/Fake.csv\")\n",
        "true = pd.read_csv(\"/content/True.csv\")\n",
        "\n",
        "# Step 3: Label data and combine\n",
        "fake['label'] = 1  # FAKE\n",
        "true['label'] = 0  # REAL\n",
        "df = pd.concat([fake, true])[['title', 'label']].dropna()\n",
        "df = df.sample(frac=1).reset_index(drop=True)  # Shuffle\n",
        "\n",
        "# Step 4: Preprocess text\n",
        "def clean_text(text):\n",
        "    text = text.lower()\n",
        "    text = ''.join([c for c in text if c not in string.punctuation])\n",
        "    tokens = text.split()\n",
        "    tokens = [word for word in tokens if word not in stopwords.words('english')]\n",
        "    return ' '.join(tokens)\n",
        "\n",
        "df['clean_text'] = df['title'].apply(clean_text)\n",
        "\n",
        "# Step 5: Split data\n",
        "X = df['clean_text']\n",
        "y = df['label']\n",
        "X_train, X_test, y_train, y_test = train_test_split(X, y, test_size=0.2, random_state=42)\n",
        "\n",
        "# Step 6: TF-IDF Vectorization\n",
        "vectorizer = TfidfVectorizer()\n",
        "X_train_vec = vectorizer.fit_transform(X_train)\n",
        "X_test_vec = vectorizer.transform(X_test)\n",
        "\n",
        "# Step 7: Train model\n",
        "model = MultinomialNB()\n",
        "model.fit(X_train_vec, y_train)\n",
        "\n",
        "# Step 8: Evaluate model\n",
        "y_pred = model.predict(X_test_vec)\n",
        "print(\"Accuracy:\", accuracy_score(y_test, y_pred))\n",
        "print(\"\\nClassification Report:\\n\", classification_report(y_test, y_pred))\n",
        "\n",
        "# Step 9: Save model and vectorizer\n",
        "joblib.dump(model, \"model.pkl\")\n",
        "joblib.dump(vectorizer, \"vectorizer.pkl\")\n"
      ]
    }
  ]
}